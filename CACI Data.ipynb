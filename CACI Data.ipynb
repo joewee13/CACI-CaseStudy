{
 "cells": [
  {
   "cell_type": "code",
   "execution_count": 102,
   "id": "4421bf3f",
   "metadata": {},
   "outputs": [],
   "source": [
    "import numpy as np\n",
    "import pandas as pd\n",
    "import math\n",
    "import seaborn as sns\n",
    "import matplotlib.pyplot as plt\n",
    "from sklearn.preprocessing import LabelEncoder\n",
    "from sklearn.preprocessing import StandardScaler\n",
    "from scipy.stats import spearmanr\n",
    "from sklearn.metrics import mean_squared_error, r2_score\n",
    "from sklearn.neighbors import NearestNeighbors, KNeighborsClassifier, KNeighborsRegressor\n",
    "from sklearn.model_selection import cross_val_predict\n",
    "from sklearn.model_selection import train_test_split\n",
    "from sklearn.model_selection import cross_val_score\n",
    "from sklearn import metrics\n",
    "import xgboost"
   ]
  },
  {
   "cell_type": "code",
   "execution_count": 103,
   "id": "a60c0e90",
   "metadata": {},
   "outputs": [],
   "source": [
    "#Load the data\n",
    "caci_data_filepath = 'C:/Users/joewe/Desktop/Bill_defaults.csv'\n",
    "bill_defaults = pd.read_csv(caci_data_filepath)\n",
    "bill_default = pd.DataFrame(bill_defaults)"
   ]
  },
  {
   "cell_type": "code",
   "execution_count": 104,
   "id": "9fec99fe",
   "metadata": {},
   "outputs": [
    {
     "name": "stdout",
     "output_type": "stream",
     "text": [
      "Index(['uid', 'late_default', 'cli_anc', 'cli_ageband', 'cli_payment',\n",
      "       'oc_inc0010', 'oc_inc50pl', 'oc_children3pl', 'oc_children0004',\n",
      "       'oc_children0510', 'oc_retired', 'oc_selfemp', 'oc_student', 'oc_unemp',\n",
      "       'oc_socrent', 'oc_privrent', 'oc_overdraft', 'oc_savs10pl',\n",
      "       'oc_cards2pl'],\n",
      "      dtype='object')\n"
     ]
    }
   ],
   "source": [
    "print(bill_default.columns)"
   ]
  },
  {
   "cell_type": "markdown",
   "id": "b99a89e3",
   "metadata": {},
   "source": [
    "## Data Preprocessing"
   ]
  },
  {
   "cell_type": "code",
   "execution_count": 105,
   "id": "2620f79d",
   "metadata": {},
   "outputs": [
    {
     "data": {
      "text/plain": [
       "0    16255\n",
       "1     3745\n",
       "Name: late_default, dtype: int64"
      ]
     },
     "execution_count": 105,
     "metadata": {},
     "output_type": "execute_result"
    }
   ],
   "source": [
    "#Check if dataset is balanced\n",
    "bill_default.late_default.value_counts()"
   ]
  },
  {
   "cell_type": "code",
   "execution_count": 106,
   "id": "20584909",
   "metadata": {},
   "outputs": [],
   "source": [
    "#As dataset is not balanced, we have to look at other approaches as we are not able to resample or drop data."
   ]
  },
  {
   "cell_type": "code",
   "execution_count": 107,
   "id": "a06245d9",
   "metadata": {},
   "outputs": [],
   "source": [
    "#Convert 'cli_payment' from string to int \n",
    "bill_default[\"cli_payment\"] = LabelEncoder().fit_transform(bill_default[\"cli_payment\"])"
   ]
  },
  {
   "cell_type": "code",
   "execution_count": 108,
   "id": "eb807c02",
   "metadata": {},
   "outputs": [
    {
     "data": {
      "text/html": [
       "<div>\n",
       "<style scoped>\n",
       "    .dataframe tbody tr th:only-of-type {\n",
       "        vertical-align: middle;\n",
       "    }\n",
       "\n",
       "    .dataframe tbody tr th {\n",
       "        vertical-align: top;\n",
       "    }\n",
       "\n",
       "    .dataframe thead th {\n",
       "        text-align: right;\n",
       "    }\n",
       "</style>\n",
       "<table border=\"1\" class=\"dataframe\">\n",
       "  <thead>\n",
       "    <tr style=\"text-align: right;\">\n",
       "      <th></th>\n",
       "      <th>uid</th>\n",
       "      <th>late_default</th>\n",
       "      <th>cli_anc</th>\n",
       "      <th>cli_ageband</th>\n",
       "      <th>cli_payment</th>\n",
       "      <th>oc_inc0010</th>\n",
       "      <th>oc_inc50pl</th>\n",
       "      <th>oc_children3pl</th>\n",
       "      <th>oc_children0004</th>\n",
       "      <th>oc_children0510</th>\n",
       "      <th>oc_retired</th>\n",
       "      <th>oc_selfemp</th>\n",
       "      <th>oc_student</th>\n",
       "      <th>oc_unemp</th>\n",
       "      <th>oc_socrent</th>\n",
       "      <th>oc_privrent</th>\n",
       "      <th>oc_overdraft</th>\n",
       "      <th>oc_savs10pl</th>\n",
       "      <th>oc_cards2pl</th>\n",
       "    </tr>\n",
       "  </thead>\n",
       "  <tbody>\n",
       "    <tr>\n",
       "      <th>0</th>\n",
       "      <td>1</td>\n",
       "      <td>1</td>\n",
       "      <td>3300</td>\n",
       "      <td>2</td>\n",
       "      <td>2</td>\n",
       "      <td>0.030355</td>\n",
       "      <td>0.475623</td>\n",
       "      <td>0.021374</td>\n",
       "      <td>0.165254</td>\n",
       "      <td>0.132862</td>\n",
       "      <td>0.000031</td>\n",
       "      <td>0.150273</td>\n",
       "      <td>0.042310</td>\n",
       "      <td>0.025378</td>\n",
       "      <td>0.012832</td>\n",
       "      <td>0.793294</td>\n",
       "      <td>0.172783</td>\n",
       "      <td>0.179815</td>\n",
       "      <td>0.306499</td>\n",
       "    </tr>\n",
       "    <tr>\n",
       "      <th>1</th>\n",
       "      <td>2</td>\n",
       "      <td>0</td>\n",
       "      <td>3010</td>\n",
       "      <td>4</td>\n",
       "      <td>1</td>\n",
       "      <td>0.313327</td>\n",
       "      <td>0.060590</td>\n",
       "      <td>0.027987</td>\n",
       "      <td>0.024381</td>\n",
       "      <td>0.066548</td>\n",
       "      <td>0.001478</td>\n",
       "      <td>0.118803</td>\n",
       "      <td>0.007655</td>\n",
       "      <td>0.075782</td>\n",
       "      <td>0.750370</td>\n",
       "      <td>0.069109</td>\n",
       "      <td>0.114262</td>\n",
       "      <td>0.036342</td>\n",
       "      <td>0.075723</td>\n",
       "    </tr>\n",
       "    <tr>\n",
       "      <th>2</th>\n",
       "      <td>3</td>\n",
       "      <td>0</td>\n",
       "      <td>2780</td>\n",
       "      <td>6</td>\n",
       "      <td>1</td>\n",
       "      <td>0.063608</td>\n",
       "      <td>0.161459</td>\n",
       "      <td>0.001920</td>\n",
       "      <td>0.003073</td>\n",
       "      <td>0.005036</td>\n",
       "      <td>0.817904</td>\n",
       "      <td>0.021434</td>\n",
       "      <td>0.002262</td>\n",
       "      <td>0.000317</td>\n",
       "      <td>0.026640</td>\n",
       "      <td>0.021453</td>\n",
       "      <td>0.056320</td>\n",
       "      <td>0.304369</td>\n",
       "      <td>0.195838</td>\n",
       "    </tr>\n",
       "    <tr>\n",
       "      <th>3</th>\n",
       "      <td>4</td>\n",
       "      <td>0</td>\n",
       "      <td>4400</td>\n",
       "      <td>3</td>\n",
       "      <td>1</td>\n",
       "      <td>0.013214</td>\n",
       "      <td>0.469807</td>\n",
       "      <td>0.195210</td>\n",
       "      <td>0.169214</td>\n",
       "      <td>0.413697</td>\n",
       "      <td>0.000132</td>\n",
       "      <td>0.101393</td>\n",
       "      <td>0.023778</td>\n",
       "      <td>0.029276</td>\n",
       "      <td>0.022806</td>\n",
       "      <td>0.120235</td>\n",
       "      <td>0.184631</td>\n",
       "      <td>0.147863</td>\n",
       "      <td>0.286992</td>\n",
       "    </tr>\n",
       "    <tr>\n",
       "      <th>4</th>\n",
       "      <td>5</td>\n",
       "      <td>0</td>\n",
       "      <td>4540</td>\n",
       "      <td>4</td>\n",
       "      <td>1</td>\n",
       "      <td>0.007277</td>\n",
       "      <td>0.527970</td>\n",
       "      <td>0.180975</td>\n",
       "      <td>0.218566</td>\n",
       "      <td>0.414872</td>\n",
       "      <td>0.001453</td>\n",
       "      <td>0.119810</td>\n",
       "      <td>0.002274</td>\n",
       "      <td>0.031067</td>\n",
       "      <td>0.001271</td>\n",
       "      <td>0.082093</td>\n",
       "      <td>0.181568</td>\n",
       "      <td>0.203448</td>\n",
       "      <td>0.244626</td>\n",
       "    </tr>\n",
       "    <tr>\n",
       "      <th>...</th>\n",
       "      <td>...</td>\n",
       "      <td>...</td>\n",
       "      <td>...</td>\n",
       "      <td>...</td>\n",
       "      <td>...</td>\n",
       "      <td>...</td>\n",
       "      <td>...</td>\n",
       "      <td>...</td>\n",
       "      <td>...</td>\n",
       "      <td>...</td>\n",
       "      <td>...</td>\n",
       "      <td>...</td>\n",
       "      <td>...</td>\n",
       "      <td>...</td>\n",
       "      <td>...</td>\n",
       "      <td>...</td>\n",
       "      <td>...</td>\n",
       "      <td>...</td>\n",
       "      <td>...</td>\n",
       "    </tr>\n",
       "    <tr>\n",
       "      <th>19995</th>\n",
       "      <td>19996</td>\n",
       "      <td>0</td>\n",
       "      <td>1760</td>\n",
       "      <td>3</td>\n",
       "      <td>0</td>\n",
       "      <td>0.025060</td>\n",
       "      <td>0.272871</td>\n",
       "      <td>0.151226</td>\n",
       "      <td>0.178796</td>\n",
       "      <td>0.340125</td>\n",
       "      <td>0.000153</td>\n",
       "      <td>0.091035</td>\n",
       "      <td>0.011942</td>\n",
       "      <td>0.020050</td>\n",
       "      <td>0.030269</td>\n",
       "      <td>0.336744</td>\n",
       "      <td>0.197441</td>\n",
       "      <td>0.070698</td>\n",
       "      <td>0.230265</td>\n",
       "    </tr>\n",
       "    <tr>\n",
       "      <th>19996</th>\n",
       "      <td>19997</td>\n",
       "      <td>0</td>\n",
       "      <td>4680</td>\n",
       "      <td>2</td>\n",
       "      <td>1</td>\n",
       "      <td>0.095052</td>\n",
       "      <td>0.165273</td>\n",
       "      <td>0.119355</td>\n",
       "      <td>0.295110</td>\n",
       "      <td>0.305598</td>\n",
       "      <td>0.000034</td>\n",
       "      <td>0.079453</td>\n",
       "      <td>0.043436</td>\n",
       "      <td>0.017367</td>\n",
       "      <td>0.213339</td>\n",
       "      <td>0.269374</td>\n",
       "      <td>0.136288</td>\n",
       "      <td>0.031117</td>\n",
       "      <td>0.055918</td>\n",
       "    </tr>\n",
       "    <tr>\n",
       "      <th>19997</th>\n",
       "      <td>19998</td>\n",
       "      <td>0</td>\n",
       "      <td>1830</td>\n",
       "      <td>1</td>\n",
       "      <td>2</td>\n",
       "      <td>0.123681</td>\n",
       "      <td>0.213847</td>\n",
       "      <td>0.023502</td>\n",
       "      <td>0.141719</td>\n",
       "      <td>0.069495</td>\n",
       "      <td>0.000054</td>\n",
       "      <td>0.036993</td>\n",
       "      <td>0.334451</td>\n",
       "      <td>0.029190</td>\n",
       "      <td>0.023805</td>\n",
       "      <td>0.325189</td>\n",
       "      <td>0.100020</td>\n",
       "      <td>0.024196</td>\n",
       "      <td>0.021911</td>\n",
       "    </tr>\n",
       "    <tr>\n",
       "      <th>19998</th>\n",
       "      <td>19999</td>\n",
       "      <td>1</td>\n",
       "      <td>2890</td>\n",
       "      <td>3</td>\n",
       "      <td>2</td>\n",
       "      <td>0.022261</td>\n",
       "      <td>0.383774</td>\n",
       "      <td>0.165557</td>\n",
       "      <td>0.188649</td>\n",
       "      <td>0.364926</td>\n",
       "      <td>0.000116</td>\n",
       "      <td>0.128175</td>\n",
       "      <td>0.018341</td>\n",
       "      <td>0.012351</td>\n",
       "      <td>0.053193</td>\n",
       "      <td>0.099822</td>\n",
       "      <td>0.241522</td>\n",
       "      <td>0.076225</td>\n",
       "      <td>0.196060</td>\n",
       "    </tr>\n",
       "    <tr>\n",
       "      <th>19999</th>\n",
       "      <td>20000</td>\n",
       "      <td>0</td>\n",
       "      <td>4340</td>\n",
       "      <td>3</td>\n",
       "      <td>2</td>\n",
       "      <td>0.044949</td>\n",
       "      <td>0.162497</td>\n",
       "      <td>0.066532</td>\n",
       "      <td>0.194036</td>\n",
       "      <td>0.248436</td>\n",
       "      <td>0.000031</td>\n",
       "      <td>0.103887</td>\n",
       "      <td>0.015226</td>\n",
       "      <td>0.015466</td>\n",
       "      <td>0.007137</td>\n",
       "      <td>0.581737</td>\n",
       "      <td>0.223313</td>\n",
       "      <td>0.053028</td>\n",
       "      <td>0.179230</td>\n",
       "    </tr>\n",
       "  </tbody>\n",
       "</table>\n",
       "<p>20000 rows × 19 columns</p>\n",
       "</div>"
      ],
      "text/plain": [
       "         uid  late_default  cli_anc  cli_ageband  cli_payment  oc_inc0010  \\\n",
       "0          1             1     3300            2            2    0.030355   \n",
       "1          2             0     3010            4            1    0.313327   \n",
       "2          3             0     2780            6            1    0.063608   \n",
       "3          4             0     4400            3            1    0.013214   \n",
       "4          5             0     4540            4            1    0.007277   \n",
       "...      ...           ...      ...          ...          ...         ...   \n",
       "19995  19996             0     1760            3            0    0.025060   \n",
       "19996  19997             0     4680            2            1    0.095052   \n",
       "19997  19998             0     1830            1            2    0.123681   \n",
       "19998  19999             1     2890            3            2    0.022261   \n",
       "19999  20000             0     4340            3            2    0.044949   \n",
       "\n",
       "       oc_inc50pl  oc_children3pl  oc_children0004  oc_children0510  \\\n",
       "0        0.475623        0.021374         0.165254         0.132862   \n",
       "1        0.060590        0.027987         0.024381         0.066548   \n",
       "2        0.161459        0.001920         0.003073         0.005036   \n",
       "3        0.469807        0.195210         0.169214         0.413697   \n",
       "4        0.527970        0.180975         0.218566         0.414872   \n",
       "...           ...             ...              ...              ...   \n",
       "19995    0.272871        0.151226         0.178796         0.340125   \n",
       "19996    0.165273        0.119355         0.295110         0.305598   \n",
       "19997    0.213847        0.023502         0.141719         0.069495   \n",
       "19998    0.383774        0.165557         0.188649         0.364926   \n",
       "19999    0.162497        0.066532         0.194036         0.248436   \n",
       "\n",
       "       oc_retired  oc_selfemp  oc_student  oc_unemp  oc_socrent  oc_privrent  \\\n",
       "0        0.000031    0.150273    0.042310  0.025378    0.012832     0.793294   \n",
       "1        0.001478    0.118803    0.007655  0.075782    0.750370     0.069109   \n",
       "2        0.817904    0.021434    0.002262  0.000317    0.026640     0.021453   \n",
       "3        0.000132    0.101393    0.023778  0.029276    0.022806     0.120235   \n",
       "4        0.001453    0.119810    0.002274  0.031067    0.001271     0.082093   \n",
       "...           ...         ...         ...       ...         ...          ...   \n",
       "19995    0.000153    0.091035    0.011942  0.020050    0.030269     0.336744   \n",
       "19996    0.000034    0.079453    0.043436  0.017367    0.213339     0.269374   \n",
       "19997    0.000054    0.036993    0.334451  0.029190    0.023805     0.325189   \n",
       "19998    0.000116    0.128175    0.018341  0.012351    0.053193     0.099822   \n",
       "19999    0.000031    0.103887    0.015226  0.015466    0.007137     0.581737   \n",
       "\n",
       "       oc_overdraft  oc_savs10pl  oc_cards2pl  \n",
       "0          0.172783     0.179815     0.306499  \n",
       "1          0.114262     0.036342     0.075723  \n",
       "2          0.056320     0.304369     0.195838  \n",
       "3          0.184631     0.147863     0.286992  \n",
       "4          0.181568     0.203448     0.244626  \n",
       "...             ...          ...          ...  \n",
       "19995      0.197441     0.070698     0.230265  \n",
       "19996      0.136288     0.031117     0.055918  \n",
       "19997      0.100020     0.024196     0.021911  \n",
       "19998      0.241522     0.076225     0.196060  \n",
       "19999      0.223313     0.053028     0.179230  \n",
       "\n",
       "[20000 rows x 19 columns]"
      ]
     },
     "execution_count": 108,
     "metadata": {},
     "output_type": "execute_result"
    }
   ],
   "source": [
    "bill_default"
   ]
  },
  {
   "cell_type": "markdown",
   "id": "e11c5cd4",
   "metadata": {},
   "source": [
    "## Feature Selection\n"
   ]
  },
  {
   "cell_type": "code",
   "execution_count": 109,
   "id": "9b0aed25",
   "metadata": {
    "scrolled": true
   },
   "outputs": [
    {
     "data": {
      "text/html": [
       "<div>\n",
       "<style scoped>\n",
       "    .dataframe tbody tr th:only-of-type {\n",
       "        vertical-align: middle;\n",
       "    }\n",
       "\n",
       "    .dataframe tbody tr th {\n",
       "        vertical-align: top;\n",
       "    }\n",
       "\n",
       "    .dataframe thead th {\n",
       "        text-align: right;\n",
       "    }\n",
       "</style>\n",
       "<table border=\"1\" class=\"dataframe\">\n",
       "  <thead>\n",
       "    <tr style=\"text-align: right;\">\n",
       "      <th></th>\n",
       "      <th>uid</th>\n",
       "      <th>late_default</th>\n",
       "      <th>cli_anc</th>\n",
       "      <th>cli_ageband</th>\n",
       "      <th>cli_payment</th>\n",
       "      <th>oc_inc0010</th>\n",
       "      <th>oc_inc50pl</th>\n",
       "      <th>oc_children3pl</th>\n",
       "      <th>oc_children0004</th>\n",
       "      <th>oc_children0510</th>\n",
       "      <th>oc_retired</th>\n",
       "      <th>oc_selfemp</th>\n",
       "      <th>oc_student</th>\n",
       "      <th>oc_unemp</th>\n",
       "      <th>oc_socrent</th>\n",
       "      <th>oc_privrent</th>\n",
       "      <th>oc_overdraft</th>\n",
       "      <th>oc_savs10pl</th>\n",
       "      <th>oc_cards2pl</th>\n",
       "    </tr>\n",
       "  </thead>\n",
       "  <tbody>\n",
       "    <tr>\n",
       "      <th>uid</th>\n",
       "      <td>1.000000</td>\n",
       "      <td>-0.006540</td>\n",
       "      <td>0.002598</td>\n",
       "      <td>0.003965</td>\n",
       "      <td>-0.000291</td>\n",
       "      <td>0.000111</td>\n",
       "      <td>-0.002361</td>\n",
       "      <td>-0.004660</td>\n",
       "      <td>-0.006772</td>\n",
       "      <td>-0.006473</td>\n",
       "      <td>0.003270</td>\n",
       "      <td>0.001346</td>\n",
       "      <td>-0.009942</td>\n",
       "      <td>0.001681</td>\n",
       "      <td>0.004469</td>\n",
       "      <td>-0.007510</td>\n",
       "      <td>0.007491</td>\n",
       "      <td>-0.000684</td>\n",
       "      <td>0.001845</td>\n",
       "    </tr>\n",
       "    <tr>\n",
       "      <th>late_default</th>\n",
       "      <td>-0.006540</td>\n",
       "      <td>1.000000</td>\n",
       "      <td>-0.016232</td>\n",
       "      <td>-0.268465</td>\n",
       "      <td>0.022640</td>\n",
       "      <td>0.036737</td>\n",
       "      <td>-0.007600</td>\n",
       "      <td>0.231101</td>\n",
       "      <td>0.261660</td>\n",
       "      <td>0.247169</td>\n",
       "      <td>-0.275727</td>\n",
       "      <td>0.081333</td>\n",
       "      <td>0.180143</td>\n",
       "      <td>0.194977</td>\n",
       "      <td>0.133106</td>\n",
       "      <td>0.202975</td>\n",
       "      <td>0.131613</td>\n",
       "      <td>-0.266887</td>\n",
       "      <td>-0.133779</td>\n",
       "    </tr>\n",
       "    <tr>\n",
       "      <th>cli_anc</th>\n",
       "      <td>0.002598</td>\n",
       "      <td>-0.016232</td>\n",
       "      <td>1.000000</td>\n",
       "      <td>0.000722</td>\n",
       "      <td>0.005517</td>\n",
       "      <td>-0.009193</td>\n",
       "      <td>0.010020</td>\n",
       "      <td>0.003246</td>\n",
       "      <td>0.001856</td>\n",
       "      <td>0.003432</td>\n",
       "      <td>0.001643</td>\n",
       "      <td>0.004795</td>\n",
       "      <td>0.001729</td>\n",
       "      <td>-0.004229</td>\n",
       "      <td>-0.001889</td>\n",
       "      <td>-0.005148</td>\n",
       "      <td>0.005882</td>\n",
       "      <td>0.003742</td>\n",
       "      <td>0.007049</td>\n",
       "    </tr>\n",
       "    <tr>\n",
       "      <th>cli_ageband</th>\n",
       "      <td>0.003965</td>\n",
       "      <td>-0.268465</td>\n",
       "      <td>0.000722</td>\n",
       "      <td>1.000000</td>\n",
       "      <td>-0.005847</td>\n",
       "      <td>0.188640</td>\n",
       "      <td>-0.266833</td>\n",
       "      <td>-0.638573</td>\n",
       "      <td>-0.866863</td>\n",
       "      <td>-0.748927</td>\n",
       "      <td>0.937903</td>\n",
       "      <td>-0.212646</td>\n",
       "      <td>-0.741839</td>\n",
       "      <td>-0.497462</td>\n",
       "      <td>-0.098738</td>\n",
       "      <td>-0.651641</td>\n",
       "      <td>-0.594561</td>\n",
       "      <td>0.707254</td>\n",
       "      <td>0.274339</td>\n",
       "    </tr>\n",
       "    <tr>\n",
       "      <th>cli_payment</th>\n",
       "      <td>-0.000291</td>\n",
       "      <td>0.022640</td>\n",
       "      <td>0.005517</td>\n",
       "      <td>-0.005847</td>\n",
       "      <td>1.000000</td>\n",
       "      <td>0.001945</td>\n",
       "      <td>0.000726</td>\n",
       "      <td>0.003635</td>\n",
       "      <td>0.003594</td>\n",
       "      <td>0.001359</td>\n",
       "      <td>-0.002082</td>\n",
       "      <td>-0.002148</td>\n",
       "      <td>-0.000920</td>\n",
       "      <td>0.010504</td>\n",
       "      <td>-0.000151</td>\n",
       "      <td>-0.009447</td>\n",
       "      <td>-0.004151</td>\n",
       "      <td>-0.006418</td>\n",
       "      <td>-0.006440</td>\n",
       "    </tr>\n",
       "    <tr>\n",
       "      <th>oc_inc0010</th>\n",
       "      <td>0.000111</td>\n",
       "      <td>0.036737</td>\n",
       "      <td>-0.009193</td>\n",
       "      <td>0.188640</td>\n",
       "      <td>0.001945</td>\n",
       "      <td>1.000000</td>\n",
       "      <td>-0.903873</td>\n",
       "      <td>-0.336331</td>\n",
       "      <td>-0.294920</td>\n",
       "      <td>-0.357130</td>\n",
       "      <td>0.147938</td>\n",
       "      <td>-0.471236</td>\n",
       "      <td>-0.096723</td>\n",
       "      <td>0.130529</td>\n",
       "      <td>0.587056</td>\n",
       "      <td>-0.076119</td>\n",
       "      <td>-0.578558</td>\n",
       "      <td>-0.357776</td>\n",
       "      <td>-0.734648</td>\n",
       "    </tr>\n",
       "    <tr>\n",
       "      <th>oc_inc50pl</th>\n",
       "      <td>-0.002361</td>\n",
       "      <td>-0.007600</td>\n",
       "      <td>0.010020</td>\n",
       "      <td>-0.266833</td>\n",
       "      <td>0.000726</td>\n",
       "      <td>-0.903873</td>\n",
       "      <td>1.000000</td>\n",
       "      <td>0.307251</td>\n",
       "      <td>0.292607</td>\n",
       "      <td>0.326480</td>\n",
       "      <td>-0.211655</td>\n",
       "      <td>0.551558</td>\n",
       "      <td>0.183136</td>\n",
       "      <td>0.004963</td>\n",
       "      <td>-0.509880</td>\n",
       "      <td>0.158486</td>\n",
       "      <td>0.560868</td>\n",
       "      <td>0.299037</td>\n",
       "      <td>0.671262</td>\n",
       "    </tr>\n",
       "    <tr>\n",
       "      <th>oc_children3pl</th>\n",
       "      <td>-0.004660</td>\n",
       "      <td>0.231101</td>\n",
       "      <td>0.003246</td>\n",
       "      <td>-0.638573</td>\n",
       "      <td>0.003635</td>\n",
       "      <td>-0.336331</td>\n",
       "      <td>0.307251</td>\n",
       "      <td>1.000000</td>\n",
       "      <td>0.841062</td>\n",
       "      <td>0.951905</td>\n",
       "      <td>-0.687028</td>\n",
       "      <td>0.423215</td>\n",
       "      <td>0.310936</td>\n",
       "      <td>0.403934</td>\n",
       "      <td>0.092955</td>\n",
       "      <td>0.352828</td>\n",
       "      <td>0.591035</td>\n",
       "      <td>-0.580710</td>\n",
       "      <td>-0.076698</td>\n",
       "    </tr>\n",
       "    <tr>\n",
       "      <th>oc_children0004</th>\n",
       "      <td>-0.006772</td>\n",
       "      <td>0.261660</td>\n",
       "      <td>0.001856</td>\n",
       "      <td>-0.866863</td>\n",
       "      <td>0.003594</td>\n",
       "      <td>-0.294920</td>\n",
       "      <td>0.292607</td>\n",
       "      <td>0.841062</td>\n",
       "      <td>1.000000</td>\n",
       "      <td>0.940409</td>\n",
       "      <td>-0.882469</td>\n",
       "      <td>0.269655</td>\n",
       "      <td>0.608560</td>\n",
       "      <td>0.390688</td>\n",
       "      <td>0.032612</td>\n",
       "      <td>0.599675</td>\n",
       "      <td>0.640232</td>\n",
       "      <td>-0.670688</td>\n",
       "      <td>-0.183178</td>\n",
       "    </tr>\n",
       "    <tr>\n",
       "      <th>oc_children0510</th>\n",
       "      <td>-0.006473</td>\n",
       "      <td>0.247169</td>\n",
       "      <td>0.003432</td>\n",
       "      <td>-0.748927</td>\n",
       "      <td>0.001359</td>\n",
       "      <td>-0.357130</td>\n",
       "      <td>0.326480</td>\n",
       "      <td>0.951905</td>\n",
       "      <td>0.940409</td>\n",
       "      <td>1.000000</td>\n",
       "      <td>-0.799101</td>\n",
       "      <td>0.373316</td>\n",
       "      <td>0.453454</td>\n",
       "      <td>0.371170</td>\n",
       "      <td>0.049024</td>\n",
       "      <td>0.476137</td>\n",
       "      <td>0.654117</td>\n",
       "      <td>-0.615874</td>\n",
       "      <td>-0.087411</td>\n",
       "    </tr>\n",
       "    <tr>\n",
       "      <th>oc_retired</th>\n",
       "      <td>0.003270</td>\n",
       "      <td>-0.275727</td>\n",
       "      <td>0.001643</td>\n",
       "      <td>0.937903</td>\n",
       "      <td>-0.002082</td>\n",
       "      <td>0.147938</td>\n",
       "      <td>-0.211655</td>\n",
       "      <td>-0.687028</td>\n",
       "      <td>-0.882469</td>\n",
       "      <td>-0.799101</td>\n",
       "      <td>1.000000</td>\n",
       "      <td>-0.253071</td>\n",
       "      <td>-0.666224</td>\n",
       "      <td>-0.453590</td>\n",
       "      <td>-0.143628</td>\n",
       "      <td>-0.671807</td>\n",
       "      <td>-0.621906</td>\n",
       "      <td>0.739815</td>\n",
       "      <td>0.273580</td>\n",
       "    </tr>\n",
       "    <tr>\n",
       "      <th>oc_selfemp</th>\n",
       "      <td>0.001346</td>\n",
       "      <td>0.081333</td>\n",
       "      <td>0.004795</td>\n",
       "      <td>-0.212646</td>\n",
       "      <td>-0.002148</td>\n",
       "      <td>-0.471236</td>\n",
       "      <td>0.551558</td>\n",
       "      <td>0.423215</td>\n",
       "      <td>0.269655</td>\n",
       "      <td>0.373316</td>\n",
       "      <td>-0.253071</td>\n",
       "      <td>1.000000</td>\n",
       "      <td>-0.103444</td>\n",
       "      <td>0.437443</td>\n",
       "      <td>-0.107247</td>\n",
       "      <td>0.279132</td>\n",
       "      <td>0.620488</td>\n",
       "      <td>0.012173</td>\n",
       "      <td>0.511020</td>\n",
       "    </tr>\n",
       "    <tr>\n",
       "      <th>oc_student</th>\n",
       "      <td>-0.009942</td>\n",
       "      <td>0.180143</td>\n",
       "      <td>0.001729</td>\n",
       "      <td>-0.741839</td>\n",
       "      <td>-0.000920</td>\n",
       "      <td>-0.096723</td>\n",
       "      <td>0.183136</td>\n",
       "      <td>0.310936</td>\n",
       "      <td>0.608560</td>\n",
       "      <td>0.453454</td>\n",
       "      <td>-0.666224</td>\n",
       "      <td>-0.103444</td>\n",
       "      <td>1.000000</td>\n",
       "      <td>0.242309</td>\n",
       "      <td>0.029655</td>\n",
       "      <td>0.487094</td>\n",
       "      <td>0.237772</td>\n",
       "      <td>-0.410699</td>\n",
       "      <td>-0.257635</td>\n",
       "    </tr>\n",
       "    <tr>\n",
       "      <th>oc_unemp</th>\n",
       "      <td>0.001681</td>\n",
       "      <td>0.194977</td>\n",
       "      <td>-0.004229</td>\n",
       "      <td>-0.497462</td>\n",
       "      <td>0.010504</td>\n",
       "      <td>0.130529</td>\n",
       "      <td>0.004963</td>\n",
       "      <td>0.403934</td>\n",
       "      <td>0.390688</td>\n",
       "      <td>0.371170</td>\n",
       "      <td>-0.453590</td>\n",
       "      <td>0.437443</td>\n",
       "      <td>0.242309</td>\n",
       "      <td>1.000000</td>\n",
       "      <td>0.287245</td>\n",
       "      <td>0.318179</td>\n",
       "      <td>0.232220</td>\n",
       "      <td>-0.522052</td>\n",
       "      <td>-0.229751</td>\n",
       "    </tr>\n",
       "    <tr>\n",
       "      <th>oc_socrent</th>\n",
       "      <td>0.004469</td>\n",
       "      <td>0.133106</td>\n",
       "      <td>-0.001889</td>\n",
       "      <td>-0.098738</td>\n",
       "      <td>-0.000151</td>\n",
       "      <td>0.587056</td>\n",
       "      <td>-0.509880</td>\n",
       "      <td>0.092955</td>\n",
       "      <td>0.032612</td>\n",
       "      <td>0.049024</td>\n",
       "      <td>-0.143628</td>\n",
       "      <td>-0.107247</td>\n",
       "      <td>0.029655</td>\n",
       "      <td>0.287245</td>\n",
       "      <td>1.000000</td>\n",
       "      <td>-0.092926</td>\n",
       "      <td>-0.262144</td>\n",
       "      <td>-0.442264</td>\n",
       "      <td>-0.498636</td>\n",
       "    </tr>\n",
       "    <tr>\n",
       "      <th>oc_privrent</th>\n",
       "      <td>-0.007510</td>\n",
       "      <td>0.202975</td>\n",
       "      <td>-0.005148</td>\n",
       "      <td>-0.651641</td>\n",
       "      <td>-0.009447</td>\n",
       "      <td>-0.076119</td>\n",
       "      <td>0.158486</td>\n",
       "      <td>0.352828</td>\n",
       "      <td>0.599675</td>\n",
       "      <td>0.476137</td>\n",
       "      <td>-0.671807</td>\n",
       "      <td>0.279132</td>\n",
       "      <td>0.487094</td>\n",
       "      <td>0.318179</td>\n",
       "      <td>-0.092926</td>\n",
       "      <td>1.000000</td>\n",
       "      <td>0.515816</td>\n",
       "      <td>-0.458519</td>\n",
       "      <td>-0.126447</td>\n",
       "    </tr>\n",
       "    <tr>\n",
       "      <th>oc_overdraft</th>\n",
       "      <td>0.007491</td>\n",
       "      <td>0.131613</td>\n",
       "      <td>0.005882</td>\n",
       "      <td>-0.594561</td>\n",
       "      <td>-0.004151</td>\n",
       "      <td>-0.578558</td>\n",
       "      <td>0.560868</td>\n",
       "      <td>0.591035</td>\n",
       "      <td>0.640232</td>\n",
       "      <td>0.654117</td>\n",
       "      <td>-0.621906</td>\n",
       "      <td>0.620488</td>\n",
       "      <td>0.237772</td>\n",
       "      <td>0.232220</td>\n",
       "      <td>-0.262144</td>\n",
       "      <td>0.515816</td>\n",
       "      <td>1.000000</td>\n",
       "      <td>-0.261931</td>\n",
       "      <td>0.339766</td>\n",
       "    </tr>\n",
       "    <tr>\n",
       "      <th>oc_savs10pl</th>\n",
       "      <td>-0.000684</td>\n",
       "      <td>-0.266887</td>\n",
       "      <td>0.003742</td>\n",
       "      <td>0.707254</td>\n",
       "      <td>-0.006418</td>\n",
       "      <td>-0.357776</td>\n",
       "      <td>0.299037</td>\n",
       "      <td>-0.580710</td>\n",
       "      <td>-0.670688</td>\n",
       "      <td>-0.615874</td>\n",
       "      <td>0.739815</td>\n",
       "      <td>0.012173</td>\n",
       "      <td>-0.410699</td>\n",
       "      <td>-0.522052</td>\n",
       "      <td>-0.442264</td>\n",
       "      <td>-0.458519</td>\n",
       "      <td>-0.261931</td>\n",
       "      <td>1.000000</td>\n",
       "      <td>0.721953</td>\n",
       "    </tr>\n",
       "    <tr>\n",
       "      <th>oc_cards2pl</th>\n",
       "      <td>0.001845</td>\n",
       "      <td>-0.133779</td>\n",
       "      <td>0.007049</td>\n",
       "      <td>0.274339</td>\n",
       "      <td>-0.006440</td>\n",
       "      <td>-0.734648</td>\n",
       "      <td>0.671262</td>\n",
       "      <td>-0.076698</td>\n",
       "      <td>-0.183178</td>\n",
       "      <td>-0.087411</td>\n",
       "      <td>0.273580</td>\n",
       "      <td>0.511020</td>\n",
       "      <td>-0.257635</td>\n",
       "      <td>-0.229751</td>\n",
       "      <td>-0.498636</td>\n",
       "      <td>-0.126447</td>\n",
       "      <td>0.339766</td>\n",
       "      <td>0.721953</td>\n",
       "      <td>1.000000</td>\n",
       "    </tr>\n",
       "  </tbody>\n",
       "</table>\n",
       "</div>"
      ],
      "text/plain": [
       "                      uid  late_default   cli_anc  cli_ageband  cli_payment  \\\n",
       "uid              1.000000     -0.006540  0.002598     0.003965    -0.000291   \n",
       "late_default    -0.006540      1.000000 -0.016232    -0.268465     0.022640   \n",
       "cli_anc          0.002598     -0.016232  1.000000     0.000722     0.005517   \n",
       "cli_ageband      0.003965     -0.268465  0.000722     1.000000    -0.005847   \n",
       "cli_payment     -0.000291      0.022640  0.005517    -0.005847     1.000000   \n",
       "oc_inc0010       0.000111      0.036737 -0.009193     0.188640     0.001945   \n",
       "oc_inc50pl      -0.002361     -0.007600  0.010020    -0.266833     0.000726   \n",
       "oc_children3pl  -0.004660      0.231101  0.003246    -0.638573     0.003635   \n",
       "oc_children0004 -0.006772      0.261660  0.001856    -0.866863     0.003594   \n",
       "oc_children0510 -0.006473      0.247169  0.003432    -0.748927     0.001359   \n",
       "oc_retired       0.003270     -0.275727  0.001643     0.937903    -0.002082   \n",
       "oc_selfemp       0.001346      0.081333  0.004795    -0.212646    -0.002148   \n",
       "oc_student      -0.009942      0.180143  0.001729    -0.741839    -0.000920   \n",
       "oc_unemp         0.001681      0.194977 -0.004229    -0.497462     0.010504   \n",
       "oc_socrent       0.004469      0.133106 -0.001889    -0.098738    -0.000151   \n",
       "oc_privrent     -0.007510      0.202975 -0.005148    -0.651641    -0.009447   \n",
       "oc_overdraft     0.007491      0.131613  0.005882    -0.594561    -0.004151   \n",
       "oc_savs10pl     -0.000684     -0.266887  0.003742     0.707254    -0.006418   \n",
       "oc_cards2pl      0.001845     -0.133779  0.007049     0.274339    -0.006440   \n",
       "\n",
       "                 oc_inc0010  oc_inc50pl  oc_children3pl  oc_children0004  \\\n",
       "uid                0.000111   -0.002361       -0.004660        -0.006772   \n",
       "late_default       0.036737   -0.007600        0.231101         0.261660   \n",
       "cli_anc           -0.009193    0.010020        0.003246         0.001856   \n",
       "cli_ageband        0.188640   -0.266833       -0.638573        -0.866863   \n",
       "cli_payment        0.001945    0.000726        0.003635         0.003594   \n",
       "oc_inc0010         1.000000   -0.903873       -0.336331        -0.294920   \n",
       "oc_inc50pl        -0.903873    1.000000        0.307251         0.292607   \n",
       "oc_children3pl    -0.336331    0.307251        1.000000         0.841062   \n",
       "oc_children0004   -0.294920    0.292607        0.841062         1.000000   \n",
       "oc_children0510   -0.357130    0.326480        0.951905         0.940409   \n",
       "oc_retired         0.147938   -0.211655       -0.687028        -0.882469   \n",
       "oc_selfemp        -0.471236    0.551558        0.423215         0.269655   \n",
       "oc_student        -0.096723    0.183136        0.310936         0.608560   \n",
       "oc_unemp           0.130529    0.004963        0.403934         0.390688   \n",
       "oc_socrent         0.587056   -0.509880        0.092955         0.032612   \n",
       "oc_privrent       -0.076119    0.158486        0.352828         0.599675   \n",
       "oc_overdraft      -0.578558    0.560868        0.591035         0.640232   \n",
       "oc_savs10pl       -0.357776    0.299037       -0.580710        -0.670688   \n",
       "oc_cards2pl       -0.734648    0.671262       -0.076698        -0.183178   \n",
       "\n",
       "                 oc_children0510  oc_retired  oc_selfemp  oc_student  \\\n",
       "uid                    -0.006473    0.003270    0.001346   -0.009942   \n",
       "late_default            0.247169   -0.275727    0.081333    0.180143   \n",
       "cli_anc                 0.003432    0.001643    0.004795    0.001729   \n",
       "cli_ageband            -0.748927    0.937903   -0.212646   -0.741839   \n",
       "cli_payment             0.001359   -0.002082   -0.002148   -0.000920   \n",
       "oc_inc0010             -0.357130    0.147938   -0.471236   -0.096723   \n",
       "oc_inc50pl              0.326480   -0.211655    0.551558    0.183136   \n",
       "oc_children3pl          0.951905   -0.687028    0.423215    0.310936   \n",
       "oc_children0004         0.940409   -0.882469    0.269655    0.608560   \n",
       "oc_children0510         1.000000   -0.799101    0.373316    0.453454   \n",
       "oc_retired             -0.799101    1.000000   -0.253071   -0.666224   \n",
       "oc_selfemp              0.373316   -0.253071    1.000000   -0.103444   \n",
       "oc_student              0.453454   -0.666224   -0.103444    1.000000   \n",
       "oc_unemp                0.371170   -0.453590    0.437443    0.242309   \n",
       "oc_socrent              0.049024   -0.143628   -0.107247    0.029655   \n",
       "oc_privrent             0.476137   -0.671807    0.279132    0.487094   \n",
       "oc_overdraft            0.654117   -0.621906    0.620488    0.237772   \n",
       "oc_savs10pl            -0.615874    0.739815    0.012173   -0.410699   \n",
       "oc_cards2pl            -0.087411    0.273580    0.511020   -0.257635   \n",
       "\n",
       "                 oc_unemp  oc_socrent  oc_privrent  oc_overdraft  oc_savs10pl  \\\n",
       "uid              0.001681    0.004469    -0.007510      0.007491    -0.000684   \n",
       "late_default     0.194977    0.133106     0.202975      0.131613    -0.266887   \n",
       "cli_anc         -0.004229   -0.001889    -0.005148      0.005882     0.003742   \n",
       "cli_ageband     -0.497462   -0.098738    -0.651641     -0.594561     0.707254   \n",
       "cli_payment      0.010504   -0.000151    -0.009447     -0.004151    -0.006418   \n",
       "oc_inc0010       0.130529    0.587056    -0.076119     -0.578558    -0.357776   \n",
       "oc_inc50pl       0.004963   -0.509880     0.158486      0.560868     0.299037   \n",
       "oc_children3pl   0.403934    0.092955     0.352828      0.591035    -0.580710   \n",
       "oc_children0004  0.390688    0.032612     0.599675      0.640232    -0.670688   \n",
       "oc_children0510  0.371170    0.049024     0.476137      0.654117    -0.615874   \n",
       "oc_retired      -0.453590   -0.143628    -0.671807     -0.621906     0.739815   \n",
       "oc_selfemp       0.437443   -0.107247     0.279132      0.620488     0.012173   \n",
       "oc_student       0.242309    0.029655     0.487094      0.237772    -0.410699   \n",
       "oc_unemp         1.000000    0.287245     0.318179      0.232220    -0.522052   \n",
       "oc_socrent       0.287245    1.000000    -0.092926     -0.262144    -0.442264   \n",
       "oc_privrent      0.318179   -0.092926     1.000000      0.515816    -0.458519   \n",
       "oc_overdraft     0.232220   -0.262144     0.515816      1.000000    -0.261931   \n",
       "oc_savs10pl     -0.522052   -0.442264    -0.458519     -0.261931     1.000000   \n",
       "oc_cards2pl     -0.229751   -0.498636    -0.126447      0.339766     0.721953   \n",
       "\n",
       "                 oc_cards2pl  \n",
       "uid                 0.001845  \n",
       "late_default       -0.133779  \n",
       "cli_anc             0.007049  \n",
       "cli_ageband         0.274339  \n",
       "cli_payment        -0.006440  \n",
       "oc_inc0010         -0.734648  \n",
       "oc_inc50pl          0.671262  \n",
       "oc_children3pl     -0.076698  \n",
       "oc_children0004    -0.183178  \n",
       "oc_children0510    -0.087411  \n",
       "oc_retired          0.273580  \n",
       "oc_selfemp          0.511020  \n",
       "oc_student         -0.257635  \n",
       "oc_unemp           -0.229751  \n",
       "oc_socrent         -0.498636  \n",
       "oc_privrent        -0.126447  \n",
       "oc_overdraft        0.339766  \n",
       "oc_savs10pl         0.721953  \n",
       "oc_cards2pl         1.000000  "
      ]
     },
     "execution_count": 109,
     "metadata": {},
     "output_type": "execute_result"
    }
   ],
   "source": [
    "#Test for significance \n",
    "bill_default.corr(method = 'spearman')"
   ]
  },
  {
   "cell_type": "code",
   "execution_count": 110,
   "id": "84148b4f",
   "metadata": {},
   "outputs": [
    {
     "data": {
      "image/png": "[encoded data removed]",
      "text/plain": [
       "<Figure size 1440x1080 with 2 Axes>"
      ]
     },
     "metadata": {
      "needs_background": "light"
     },
     "output_type": "display_data"
    }
   ],
   "source": [
    "plt.figure(figsize=(20,15))\n",
    "cor = bill_default.corr()\n",
    "sns.heatmap(cor, annot = True, cmap=plt.cm.Blues_r)\n",
    "plt.show()"
   ]
  },
  {
   "cell_type": "code",
   "execution_count": 111,
   "id": "30b15f20",
   "metadata": {},
   "outputs": [],
   "source": [
    "#Create a function to drop correlated variables by setting a threshold (arbitary) good idea to test with multiple levels of threshold\n",
    "# I set 0.7 using visual \n",
    "def correlation(dataset, threshold):\n",
    "    col_corr = set()\n",
    "    corr_matrix = dataset.corr()\n",
    "    for i in range(len(corr_matrix.columns)):\n",
    "        for j in range(i):\n",
    "            if abs(corr_matrix.iloc[i,j]) > threshold: #Leave abs, so negative correlation is also inc\n",
    "                colname = corr_matrix.columns[i] #Store ones above threshold (only i so no duplicates)\n",
    "                col_corr.add(colname)\n",
    "    return col_corr"
   ]
  },
  {
   "cell_type": "code",
   "execution_count": 112,
   "id": "aaf7dd57",
   "metadata": {},
   "outputs": [
    {
     "name": "stdout",
     "output_type": "stream",
     "text": [
      "Features to drop = {'oc_children0004', 'oc_overdraft', 'oc_inc50pl', 'oc_retired', 'oc_children0510'}\n"
     ]
    }
   ],
   "source": [
    "corr_features = correlation(bill_default, 0.7)\n",
    "print ('Features to drop =', corr_features)"
   ]
  },
  {
   "cell_type": "code",
   "execution_count": 113,
   "id": "153a4737",
   "metadata": {},
   "outputs": [],
   "source": [
    "#Drop highly correlated features\n",
    "new_df = bill_default.drop(['uid','oc_children0004', 'oc_children0510', 'oc_inc50pl','oc_overdraft','oc_retired'], axis=1)\n"
   ]
  },
  {
   "cell_type": "code",
   "execution_count": 114,
   "id": "b09ee464",
   "metadata": {},
   "outputs": [
    {
     "name": "stdout",
     "output_type": "stream",
     "text": [
      "Index(['late_default', 'cli_anc', 'cli_ageband', 'cli_payment', 'oc_inc0010',\n",
      "       'oc_children3pl', 'oc_selfemp', 'oc_student', 'oc_unemp', 'oc_socrent',\n",
      "       'oc_privrent', 'oc_savs10pl', 'oc_cards2pl'],\n",
      "      dtype='object')\n"
     ]
    }
   ],
   "source": [
    "#Print the new features\n",
    "print(new_df.columns)"
   ]
  },
  {
   "cell_type": "code",
   "execution_count": 115,
   "id": "e7ec5b69",
   "metadata": {},
   "outputs": [],
   "source": [
    "#Setting dependent variable as late default\n",
    "y = new_df.late_default"
   ]
  },
  {
   "cell_type": "code",
   "execution_count": 116,
   "id": "3da7798f",
   "metadata": {},
   "outputs": [
    {
     "name": "stdout",
     "output_type": "stream",
     "text": [
      "       cli_anc  cli_ageband  cli_payment  oc_inc0010  oc_children3pl  \\\n",
      "0         3300            2            2    0.030355        0.021374   \n",
      "1         3010            4            1    0.313327        0.027987   \n",
      "2         2780            6            1    0.063608        0.001920   \n",
      "3         4400            3            1    0.013214        0.195210   \n",
      "4         4540            4            1    0.007277        0.180975   \n",
      "...        ...          ...          ...         ...             ...   \n",
      "19995     1760            3            0    0.025060        0.151226   \n",
      "19996     4680            2            1    0.095052        0.119355   \n",
      "19997     1830            1            2    0.123681        0.023502   \n",
      "19998     2890            3            2    0.022261        0.165557   \n",
      "19999     4340            3            2    0.044949        0.066532   \n",
      "\n",
      "       oc_selfemp  oc_student  oc_unemp  oc_socrent  oc_privrent  oc_savs10pl  \\\n",
      "0        0.150273    0.042310  0.025378    0.012832     0.793294     0.179815   \n",
      "1        0.118803    0.007655  0.075782    0.750370     0.069109     0.036342   \n",
      "2        0.021434    0.002262  0.000317    0.026640     0.021453     0.304369   \n",
      "3        0.101393    0.023778  0.029276    0.022806     0.120235     0.147863   \n",
      "4        0.119810    0.002274  0.031067    0.001271     0.082093     0.203448   \n",
      "...           ...         ...       ...         ...          ...          ...   \n",
      "19995    0.091035    0.011942  0.020050    0.030269     0.336744     0.070698   \n",
      "19996    0.079453    0.043436  0.017367    0.213339     0.269374     0.031117   \n",
      "19997    0.036993    0.334451  0.029190    0.023805     0.325189     0.024196   \n",
      "19998    0.128175    0.018341  0.012351    0.053193     0.099822     0.076225   \n",
      "19999    0.103887    0.015226  0.015466    0.007137     0.581737     0.053028   \n",
      "\n",
      "       oc_cards2pl  \n",
      "0         0.306499  \n",
      "1         0.075723  \n",
      "2         0.195838  \n",
      "3         0.286992  \n",
      "4         0.244626  \n",
      "...            ...  \n",
      "19995     0.230265  \n",
      "19996     0.055918  \n",
      "19997     0.021911  \n",
      "19998     0.196060  \n",
      "19999     0.179230  \n",
      "\n",
      "[20000 rows x 12 columns]\n"
     ]
    },
    {
     "data": {
      "text/plain": [
       "(20000, 12)"
      ]
     },
     "execution_count": 116,
     "metadata": {},
     "output_type": "execute_result"
    }
   ],
   "source": [
    "#Create list of features for independent variables\n",
    "feature_names = ['cli_anc', 'cli_ageband', 'cli_payment', 'oc_inc0010',\n",
    "       'oc_children3pl', 'oc_selfemp', 'oc_student', 'oc_unemp', 'oc_socrent',\n",
    "       'oc_privrent', 'oc_savs10pl', 'oc_cards2pl']\n",
    "\n",
    "X = new_df[feature_names]\n",
    "\n",
    "print(X)\n",
    "X.shape"
   ]
  },
  {
   "cell_type": "markdown",
   "id": "56f09a3b",
   "metadata": {},
   "source": [
    "# Normalize the data"
   ]
  },
  {
   "cell_type": "markdown",
   "id": "04653554",
   "metadata": {},
   "source": [
    "As the features data hold different types of data (unbounded, 0-1 and categorical), we want to transform the data such that its distribution will have a mean value 0 and standard deviation of 1. The idea is to normalize the features of X before applying any ML model. This is to improve weighted distribution."
   ]
  },
  {
   "cell_type": "code",
   "execution_count": 117,
   "id": "999c0d3c",
   "metadata": {},
   "outputs": [],
   "source": [
    "#Scaling the data to normalize using Standard Scaler\n",
    "scaler = StandardScaler().fit(X)\n",
    "scaled_X = scaler.transform(X)"
   ]
  },
  {
   "cell_type": "markdown",
   "id": "309d1373",
   "metadata": {},
   "source": [
    "# Cross Validation"
   ]
  },
  {
   "cell_type": "markdown",
   "id": "648ee40c",
   "metadata": {},
   "source": [
    "We want to split the data into two categories, one for testing and one for training. This will help us overcome any issues with over-fitting"
   ]
  },
  {
   "cell_type": "code",
   "execution_count": 118,
   "id": "6106dc68",
   "metadata": {},
   "outputs": [],
   "source": [
    "#Split data \n",
    "X_train, X_test, y_train, y_test = train_test_split(scaled_X, y, random_state = 8, test_size = 0.3)"
   ]
  },
  {
   "cell_type": "code",
   "execution_count": 119,
   "id": "9e2991bd",
   "metadata": {},
   "outputs": [
    {
     "data": {
      "text/plain": [
       "(14000, 12)"
      ]
     },
     "execution_count": 119,
     "metadata": {},
     "output_type": "execute_result"
    }
   ],
   "source": [
    "X_train.shape"
   ]
  },
  {
   "cell_type": "markdown",
   "id": "64e5b179",
   "metadata": {},
   "source": [
    "## Using Logistic Regression"
   ]
  },
  {
   "cell_type": "code",
   "execution_count": 120,
   "id": "05c47dc2",
   "metadata": {},
   "outputs": [],
   "source": [
    "from sklearn.linear_model import LogisticRegression"
   ]
  },
  {
   "cell_type": "code",
   "execution_count": 121,
   "id": "7afdfd90",
   "metadata": {},
   "outputs": [],
   "source": [
    "log_reg = LogisticRegression()\n",
    "log_reg.fit(X_train, y_train)\n",
    "y_pred_LR = log_reg.predict(X_test)"
   ]
  },
  {
   "cell_type": "markdown",
   "id": "494f2d54",
   "metadata": {},
   "source": [
    "# Evaluation"
   ]
  },
  {
   "cell_type": "code",
   "execution_count": 122,
   "id": "6ea217d2",
   "metadata": {},
   "outputs": [
    {
     "data": {
      "text/plain": [
       "0.8156666666666667"
      ]
     },
     "execution_count": 122,
     "metadata": {},
     "output_type": "execute_result"
    }
   ],
   "source": [
    "#Using metric score to determine accuracy\n",
    "metrics.accuracy_score(y_test, y_pred_LR)"
   ]
  },
  {
   "cell_type": "markdown",
   "id": "29524473",
   "metadata": {},
   "source": [
    "## Confusion Matrix"
   ]
  },
  {
   "cell_type": "code",
   "execution_count": 123,
   "id": "937d14ce",
   "metadata": {},
   "outputs": [
    {
     "name": "stdout",
     "output_type": "stream",
     "text": [
      "TN, FP, FN, TP  =  [4891   13 1093    3]\n"
     ]
    }
   ],
   "source": [
    "print('TN, FP, FN, TP  = ', metrics.confusion_matrix(y_test, y_pred_LR).ravel())"
   ]
  },
  {
   "cell_type": "markdown",
   "id": "c8453b5c",
   "metadata": {},
   "source": [
    "## Using KNN Classifier "
   ]
  },
  {
   "cell_type": "code",
   "execution_count": 124,
   "id": "1972c4d6",
   "metadata": {},
   "outputs": [
    {
     "data": {
      "text/plain": [
       "0.8241666666666667"
      ]
     },
     "execution_count": 124,
     "metadata": {},
     "output_type": "execute_result"
    }
   ],
   "source": [
    "#Use CV with KNN model\n",
    "knn = KNeighborsClassifier(n_neighbors=20)\n",
    "knn.fit(X_train, y_train)\n",
    "cv_y_pred = knn.predict(X_test)\n",
    "metrics.accuracy_score(y_test, cv_y_pred)"
   ]
  },
  {
   "cell_type": "code",
   "execution_count": 101,
   "id": "ca609ab5",
   "metadata": {},
   "outputs": [],
   "source": [
    "#Loop CV func to obtain best value of k\n",
    "k_scores =[]\n",
    "for k in range(1, 51):\n",
    "    knn = KNeighborsClassifier(n_neighbors=k)\n",
    "    scores = cross_val_score(knn, scaled_X, y, cv=10, scoring = 'accuracy')\n",
    "    k_scores.append(scores.mean())"
   ]
  },
  {
   "cell_type": "code",
   "execution_count": 125,
   "id": "1a1daf30",
   "metadata": {},
   "outputs": [
    {
     "data": {
      "text/plain": [
       "[<matplotlib.lines.Line2D at 0x1522db00b80>]"
      ]
     },
     "execution_count": 125,
     "metadata": {},
     "output_type": "execute_result"
    },
    {
     "data": {
      "image/png": "[encoded data removed]",
      "text/plain": [
       "<Figure size 432x288 with 1 Axes>"
      ]
     },
     "metadata": {
      "needs_background": "light"
     },
     "output_type": "display_data"
    }
   ],
   "source": [
    "plt.plot(range(1,51), k_scores)"
   ]
  },
  {
   "cell_type": "code",
   "execution_count": 126,
   "id": "3db9cb10",
   "metadata": {},
   "outputs": [
    {
     "name": "stdout",
     "output_type": "stream",
     "text": [
      "CV Score for KNN = [0.8215 0.8215 0.817  0.8305 0.814  0.8155 0.808  0.8105 0.8225 0.8205]\n",
      "Score mean for KNN = 0.8181499999999999\n"
     ]
    }
   ],
   "source": [
    "#Use metric score to determine accuracy of model after applying CV\n",
    "scores= cross_val_score(knn, scaled_X, y, cv = 10, scoring = 'accuracy')\n",
    "print('CV Score for KNN =', scores)\n",
    "print('Score mean for KNN =', np.mean(scores))"
   ]
  },
  {
   "cell_type": "markdown",
   "id": "728159fa",
   "metadata": {},
   "source": [
    "## Confusion Matrix"
   ]
  },
  {
   "cell_type": "code",
   "execution_count": 127,
   "id": "953cdb37",
   "metadata": {},
   "outputs": [
    {
     "name": "stdout",
     "output_type": "stream",
     "text": [
      "TN, FP, FN, TP  =  [4709  195  860  236]\n"
     ]
    }
   ],
   "source": [
    "print('TN, FP, FN, TP  = ', metrics.confusion_matrix(y_test, cv_y_pred).ravel())\n",
    "#The FN rate is very high mainly due to the unbalanced data as we have significantly more people with no missed payments, hence it tends to incorrectly indicate that the individual is able to make payments when they cant"
   ]
  },
  {
   "cell_type": "markdown",
   "id": "88131da8",
   "metadata": {},
   "source": [
    "## XGBoost Boosted Forest"
   ]
  },
  {
   "cell_type": "code",
   "execution_count": 128,
   "id": "347d7aa3",
   "metadata": {},
   "outputs": [
    {
     "name": "stdout",
     "output_type": "stream",
     "text": [
      "Accuracy: 82.48%\n"
     ]
    }
   ],
   "source": [
    "from xgboost import XGBRFClassifier\n",
    "from sklearn.model_selection import RepeatedStratifiedKFold\n",
    "#Define the model\n",
    "model = xgb.XGBClassifier()\n",
    "model.fit(X_train, y_train)\n",
    "\n",
    "y_pred_BF = model.predict(X_test)\n",
    "predictions = [round(value) for value in y_pred_BF]\n",
    "# evaluate predictions\n",
    "accuracy = metrics.accuracy_score(y_test, predictions)\n",
    "print(\"Accuracy: %.2f%%\" % (accuracy * 100.0))"
   ]
  },
  {
   "cell_type": "markdown",
   "id": "8e2e456e",
   "metadata": {},
   "source": [
    "## Confusion Matrix"
   ]
  },
  {
   "cell_type": "code",
   "execution_count": 129,
   "id": "e61f8a1e",
   "metadata": {},
   "outputs": [
    {
     "name": "stdout",
     "output_type": "stream",
     "text": [
      "TN, FP, FN, TP  =  [4593  311  740  356]\n"
     ]
    }
   ],
   "source": [
    "print('TN, FP, FN, TP  = ', metrics.confusion_matrix(y_test, y_pred_BF).ravel())"
   ]
  },
  {
   "cell_type": "markdown",
   "id": "de7f3619",
   "metadata": {},
   "source": [
    "# Evaluation"
   ]
  },
  {
   "cell_type": "markdown",
   "id": "f0d7c87f",
   "metadata": {},
   "source": [
    "## ROC AUC "
   ]
  },
  {
   "cell_type": "code",
   "execution_count": 130,
   "id": "dcb33b97",
   "metadata": {},
   "outputs": [],
   "source": [
    "from sklearn.metrics import roc_curve, auc\n"
   ]
  },
  {
   "cell_type": "code",
   "execution_count": 131,
   "id": "f9ba5f5d",
   "metadata": {},
   "outputs": [],
   "source": [
    "#We determine the False postive rate and the True Postive rate and we plot it to compare which ML model is best suited\n",
    "#Logistic Reg\n",
    "logistic_fpr, logistic_tpr, threshold = roc_curve(y_test, y_pred_LR)\n",
    "auc_LR = auc(logistic_fpr, logistic_tpr)\n",
    "#KNN\n",
    "knn_fpr, knn_tpr, threshold = roc_curve(y_test, cv_y_pred)\n",
    "auc_knn = auc(knn_fpr, knn_tpr)\n",
    "#Boosted Forest\n",
    "BF_fpr, BF_tpr, threshold = roc_curve(y_test, y_pred_BF)\n",
    "auc_BF = auc(BF_fpr, BF_tpr)\n",
    "\n",
    "\n",
    "\n"
   ]
  },
  {
   "cell_type": "code",
   "execution_count": 132,
   "id": "1f05ab0d",
   "metadata": {},
   "outputs": [
    {
     "data": {
      "image/png": "[encoded data removed]",
      "text/plain": [
       "<Figure size 360x360 with 1 Axes>"
      ]
     },
     "metadata": {
      "needs_background": "light"
     },
     "output_type": "display_data"
    }
   ],
   "source": [
    "plt.figure(figsize=(5,5))\n",
    "plt.plot(logistic_fpr, logistic_tpr, marker ='.', label = ' Logistic (auc = %0.3f)' % auc_LR)\n",
    "plt.plot(knn_fpr, knn_tpr, marker ='.', label = ' KNN (auc = %0.3f)' % auc_knn)\n",
    "plt.plot(BF_fpr, BF_tpr, marker ='.', label = ' Boosted Forest (auc = %0.3f)' % auc_BF)\n",
    "plt.xlabel('False Postive Rate')\n",
    "plt.ylabel('True Positive Rate')\n",
    "plt.legend()\n",
    "plt.show()\n",
    "\n"
   ]
  },
  {
   "cell_type": "markdown",
   "id": "425acb88",
   "metadata": {},
   "source": [
    "## F1 Score"
   ]
  },
  {
   "cell_type": "code",
   "execution_count": 133,
   "id": "5f0d8bcb",
   "metadata": {},
   "outputs": [],
   "source": [
    "from sklearn.metrics import f1_score"
   ]
  },
  {
   "cell_type": "code",
   "execution_count": 134,
   "id": "02782c38",
   "metadata": {},
   "outputs": [
    {
     "name": "stdout",
     "output_type": "stream",
     "text": [
      "F1 SCore for Logistic Regression = 0.00539568345323741\n",
      "F1 Score for KNN = 0.3091028159790439\n",
      "F1 Score for Gradient Boosted Forest = 0.4038570618264322\n"
     ]
    }
   ],
   "source": [
    "f1_LR = f1_score(y_test, y_pred_LR)\n",
    "f1_KNN = f1_score(y_test, cv_y_pred)\n",
    "f1_BF = f1_score(y_test, y_pred_BF)\n",
    "\n",
    "print('F1 SCore for Logistic Regression =', f1_LR)\n",
    "print('F1 Score for KNN =', f1_KNN)\n",
    "print('F1 Score for Gradient Boosted Forest =', f1_BF)"
   ]
  },
  {
   "cell_type": "markdown",
   "id": "eec0e0c8",
   "metadata": {},
   "source": [
    "Here we can see that Gradient Boosted Forest classifier has the highest F1 score, where the metric is as follows:\n",
    "\n",
    "F1 score = 2 * (Precision * Recall) / (Precision + Recall)\n",
    "\n",
    "Where,\n",
    "\n",
    "Precision  = True Positives / (True Positives/ False Positives)\n",
    "\n",
    "Recall = True positives / (True Positives + False Negatives)\n",
    "\n",
    "Making the Boosted Forest a better baseline model\n"
   ]
  },
  {
   "cell_type": "markdown",
   "id": "71abe5d2",
   "metadata": {},
   "source": [
    "# SMOTE "
   ]
  },
  {
   "cell_type": "markdown",
   "id": "a0f0387b",
   "metadata": {},
   "source": [
    "## Synthetic Minority Oversampling Technique\n",
    "A problem with imbalanced classification is that there are too few examples of the minority class for a model to effectively learn the decision boundary.\n",
    "\n",
    "One way to solve this problem is to oversample the examples in the minority class. This can be achieved by simply duplicating examples from the minority class in the training dataset prior to fitting a model. This can balance the class distribution but does not provide any additional information to the model."
   ]
  },
  {
   "cell_type": "code",
   "execution_count": 135,
   "id": "e0327063",
   "metadata": {},
   "outputs": [],
   "source": [
    "from imblearn.over_sampling import SMOTE\n",
    "from collections import Counter"
   ]
  },
  {
   "cell_type": "code",
   "execution_count": 136,
   "id": "f4ef3db8",
   "metadata": {},
   "outputs": [
    {
     "name": "stdout",
     "output_type": "stream",
     "text": [
      "Counter({0: 16255, 1: 3745})\n"
     ]
    }
   ],
   "source": [
    "#We use the counter object to summarize the number of examples in each class to confirm the dataset was transformed correctly.\n",
    "#Original Count of y\n",
    "counter = Counter(y)\n",
    "print(counter)"
   ]
  },
  {
   "cell_type": "code",
   "execution_count": 137,
   "id": "9a675142",
   "metadata": {},
   "outputs": [],
   "source": [
    "oversample = SMOTE()\n",
    "smote_scaled_X, smote_y = oversample.fit_resample(scaled_X, y)"
   ]
  },
  {
   "cell_type": "code",
   "execution_count": 138,
   "id": "6ca543a1",
   "metadata": {},
   "outputs": [
    {
     "name": "stdout",
     "output_type": "stream",
     "text": [
      "Counter({1: 16255, 0: 16255})\n"
     ]
    }
   ],
   "source": [
    "#Count of y after SMOTE\n",
    "counter = Counter(smote_y)\n",
    "print(counter)"
   ]
  },
  {
   "cell_type": "code",
   "execution_count": 139,
   "id": "1156b271",
   "metadata": {},
   "outputs": [],
   "source": [
    "#Here we compare the Boosted Forest and KNN model after using SMOTE to see if there is any improvement\n",
    "#Split data \n",
    "smote_X_train, smote_X_test, smote_y_train, smote_y_test = train_test_split(smote_scaled_X, smote_y, random_state = 8, test_size = 0.2)\n",
    "#With KNN model\n",
    "knn.fit(smote_X_train, smote_y_train)\n",
    "smote_y_pred_knn = knn.predict(smote_X_test)\n",
    "#With BF Model\n",
    "model.fit(smote_X_train, smote_y_train)\n",
    "smote_y_pred_BF = model.predict(smote_X_test)\n"
   ]
  },
  {
   "cell_type": "markdown",
   "id": "6bdc95d6",
   "metadata": {},
   "source": [
    "# Evaluation"
   ]
  },
  {
   "cell_type": "code",
   "execution_count": 140,
   "id": "941b6eb9",
   "metadata": {},
   "outputs": [
    {
     "name": "stdout",
     "output_type": "stream",
     "text": [
      "KNN Metric score before SMOTE = 0.8241666666666667\n",
      "KNN Metric score after SMOTE = 0.7923715779760074\n",
      "BF Metric score before SMOTE = 0.8248333333333333\n",
      "BF Metric score after SMOTE = 0.8418948015995078\n"
     ]
    }
   ],
   "source": [
    "#Use metric score to determine accuracy for KNN and BF\n",
    "print('KNN Metric score before SMOTE =', metrics.accuracy_score(y_test, cv_y_pred))\n",
    "print('KNN Metric score after SMOTE =', metrics.accuracy_score(smote_y_test, smote_y_pred))\n",
    "\n",
    "\n",
    "print('BF Metric score before SMOTE =', metrics.accuracy_score(y_test, y_pred_BF))\n",
    "print('BF Metric score after SMOTE =', metrics.accuracy_score(smote_y_test, smote_y_pred_BF))\n",
    "\n",
    "\n",
    "\n"
   ]
  },
  {
   "cell_type": "code",
   "execution_count": 141,
   "id": "e7a3b47e",
   "metadata": {},
   "outputs": [
    {
     "name": "stdout",
     "output_type": "stream",
     "text": [
      "TN, FP, FN, TP  =  [2273  928  422 2879]\n"
     ]
    }
   ],
   "source": [
    "#Here using SMOTE we can see that the number of False Positives and False Negatives have drastically reduced, with very little impact to the accuracy score of the model.\n",
    "# This is at the expense of increased FP as SMOTE bootstraps the number of default payees.\n",
    "print('TN, FP, FN, TP  = ', metrics.confusion_matrix(smote_y_test, smote_y_pred).ravel())"
   ]
  },
  {
   "cell_type": "code",
   "execution_count": 142,
   "id": "cf60fc1a",
   "metadata": {},
   "outputs": [
    {
     "data": {
      "image/png": "[encoded data removed]",
      "text/plain": [
       "<Figure size 360x360 with 1 Axes>"
      ]
     },
     "metadata": {
      "needs_background": "light"
     },
     "output_type": "display_data"
    }
   ],
   "source": [
    "#Now we compare the ROC AUC score after using SMOTE\n",
    "#KNN\n",
    "smote_knn_fpr, smote_knn_tpr, threshold = roc_curve(smote_y_test, smote_y_pred)\n",
    "smote_auc_knn = auc(smote_knn_fpr, smote_knn_tpr)\n",
    "#Boosted Forest\n",
    "smote_BF_fpr, smote_BF_tpr, threshold = roc_curve(smote_y_test, smote_y_pred_BF)\n",
    "smote_auc_BF = auc(smote_BF_fpr, smote_BF_tpr)\n",
    "\n",
    "\n",
    "\n",
    "plt.figure(figsize=(5,5))\n",
    "plt.plot(smote_knn_fpr, smote_knn_tpr, marker ='.', label = ' Smote KNN (auc = %0.3f)' % smote_auc_knn)\n",
    "plt.plot(smote_BF_fpr, smote_BF_tpr, marker ='.', label = ' BF (auc = %0.3f)' % smote_auc_BF)\n",
    "plt.xlabel('False Postive Rate')\n",
    "plt.ylabel('True Positive Rate')\n",
    "plt.legend()\n",
    "plt.show()"
   ]
  },
  {
   "cell_type": "markdown",
   "id": "759892dd",
   "metadata": {},
   "source": [
    "## F1 score"
   ]
  },
  {
   "cell_type": "code",
   "execution_count": 143,
   "id": "3541f470",
   "metadata": {},
   "outputs": [
    {
     "name": "stdout",
     "output_type": "stream",
     "text": [
      "F1 SCore for KNN without SMOTE = 0.3091028159790439\n",
      "F1 Score for KNN with SMOTE = 0.8100731570061902\n",
      "F1 SCore for BF without SMOTE = 0.4038570618264322\n",
      "F1 SCore for BF with SMOTE = 0.8499270072992701\n"
     ]
    }
   ],
   "source": [
    "smote_f1_KNN = f1_score(smote_y_test, smote_y_pred)\n",
    "smote_f1_BF = f1_score(smote_y_test, smote_y_pred_BF)\n",
    "\n",
    "print('F1 SCore for KNN without SMOTE =', f1_KNN)\n",
    "print('F1 Score for KNN with SMOTE =', smote_f1_KNN)\n",
    "\n",
    "print('F1 SCore for BF without SMOTE =', f1_BF)\n",
    "print('F1 SCore for BF with SMOTE =', smote_f1_BF)"
   ]
  }
 ],
 "metadata": {
  "kernelspec": {
   "display_name": "Python 3.8.8 ('base')",
   "language": "python",
   "name": "python3"
  },
  "language_info": {
   "codemirror_mode": {
    "name": "ipython",
    "version": 3
   },
   "file_extension": ".py",
   "mimetype": "text/x-python",
   "name": "python",
   "nbconvert_exporter": "python",
   "pygments_lexer": "ipython3",
   "version": "3.8.8"
  },
  "vscode": {
   "interpreter": {
    "hash": "88279d2366fe020547cde40dd65aa0e3aa662a6ec1f3ca12d88834876c85e1a6"
   }
  }
 },
 "nbformat": 4,
 "nbformat_minor": 5
}
